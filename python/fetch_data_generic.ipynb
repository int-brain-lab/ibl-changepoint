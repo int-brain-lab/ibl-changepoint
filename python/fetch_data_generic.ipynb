{
 "cells": [
  {
   "cell_type": "markdown",
   "metadata": {},
   "source": [
    "This script loads behavioral mice data for specified mice. The data are slightly reformatted and saved as `.csv` files."
   ]
  },
  {
   "cell_type": "code",
   "execution_count": 1,
   "metadata": {},
   "outputs": [
    {
     "name": "stdout",
     "output_type": "stream",
     "text": [
      "Connecting lacerbi@datajoint.internationalbrainlab.org:3306\n"
     ]
    }
   ],
   "source": [
    "import datajoint as dj\n",
    "dj.config['database.host'] = 'datajoint.internationalbrainlab.org'\n",
    "\n",
    "from ibl_pipeline import subject, acquisition, action, behavior, reference, data\n",
    "from ibl_pipeline.analyses.behavior import PsychResults, SessionTrainingStatus\n",
    "from ibl_pipeline.utils import psychofit as psy\n",
    "from ibl_pipeline.analyses import behavior as behavior_analysis\n",
    "\n",
    "import numpy as np\n",
    "import matplotlib.pyplot as plt\n",
    "import pandas as pd"
   ]
  },
  {
   "cell_type": "code",
   "execution_count": 3,
   "metadata": {},
   "outputs": [],
   "source": [
    "import os\n",
    "myPath = r\"C:\\Users\\Luigi\\Documents\\GitHub\\ibl-changepoint\\data\" # Write here your data path\n",
    "os.chdir(myPath)"
   ]
  },
  {
   "cell_type": "code",
   "execution_count": 4,
   "metadata": {},
   "outputs": [
    {
     "name": "stdout",
     "output_type": "stream",
     "text": [
      "['ZM_1091', 'CSHL_003']\n"
     ]
    }
   ],
   "source": [
    "# Get list of mice that satisfy given training criteria (stringent trained_1b)\n",
    "# Check query from behavioral paper: \n",
    "# https://github.com/int-brain-lab/paper-behavior/blob/master/paper_behavior_functions.py\n",
    "\n",
    "mice_names = ['ZM_1091','CSHL_003']\n",
    "\n",
    "print(mice_names)"
   ]
  },
  {
   "cell_type": "code",
   "execution_count": 5,
   "metadata": {},
   "outputs": [],
   "source": [
    "sess_stable = (acquisition.Session * behavior_analysis.SessionTrainingStatus)\n",
    "#               & 'task_protocol LIKE \"%biased%\"' & 'session_start_time < \"2019-09-30\"')\n",
    "              \n",
    "stable_mice_names = list()\n",
    "\n",
    "def get_mouse_data(df):\n",
    "    position_deg = 35.    # Stimuli appear at +/- 35 degrees\n",
    "\n",
    "    # Create new dataframe\n",
    "    datamat = pd.DataFrame()\n",
    "    datamat['trial_num'] = df['trial_id']\n",
    "    datamat['session_num'] = np.cumsum(df['trial_id'] == 1)\n",
    "    datamat['stim_probability_left'] = df['trial_stim_prob_left']\n",
    "    signed_contrast = df['trial_stim_contrast_right'] - df['trial_stim_contrast_left']\n",
    "    datamat['contrast'] = np.abs(signed_contrast)\n",
    "    datamat['position'] = np.sign(signed_contrast)*position_deg\n",
    "    datamat['response_choice'] = df['trial_response_choice']\n",
    "    datamat.loc[df['trial_response_choice'] == 'CCW','response_choice'] = 1\n",
    "    datamat.loc[df['trial_response_choice'] == 'CW','response_choice'] = -1\n",
    "    datamat.loc[df['trial_response_choice'] == 'No Go','response_choice'] = 0\n",
    "    datamat['trial_correct'] = np.double(df['trial_feedback_type']==1)\n",
    "    datamat['reaction_time'] = df['trial_response_time'] - df['trial_stim_on_time'] # double-check\n",
    "    date2str = lambda x: int(str(x)[0:4]+str(x)[5:7]+str(x)[8:10])\n",
    "    datamat['date'] = df['session_start_time'].map(date2str)\n",
    "\n",
    "    # Since some trials have zero contrast, need to compute the alleged position separately\n",
    "    datamat.loc[(datamat['trial_correct'] == 1) & (signed_contrast == 0),'position'] = \\\n",
    "        datamat.loc[(datamat['trial_correct'] == 1) & (signed_contrast == 0),'response_choice']*position_deg\n",
    "    datamat.loc[(datamat['trial_correct'] == 0) & (signed_contrast == 0),'position'] = \\\n",
    "        datamat.loc[(datamat['trial_correct'] == 0) & (signed_contrast == 0),'response_choice']*(-position_deg)\n",
    "    \n",
    "    return datamat"
   ]
  },
  {
   "cell_type": "code",
   "execution_count": 6,
   "metadata": {},
   "outputs": [
    {
     "name": "stdout",
     "output_type": "stream",
     "text": [
      "['ZM_1091', 'CSHL_003']\n"
     ]
    }
   ],
   "source": [
    "# Loop over all mice\n",
    "for mouse_nickname in mice_names:\n",
    "    \n",
    "    mouse_subject = {'subject_nickname': mouse_nickname}\n",
    "    \n",
    "    # Get mouse data for biased sessions\n",
    "    behavior_stable = (behavior.TrialSet.Trial & (subject.Subject & mouse_subject)) \\\n",
    "        * sess_stable.proj('session_uuid','task_protocol','session_start_time','training_status') * subject.Subject.proj('subject_nickname') \\\n",
    "        * subject.SubjectLab.proj('lab_name')\n",
    "    df = pd.DataFrame(behavior_stable.fetch(order_by='subject_nickname, session_start_time, trial_id', as_dict=True))\n",
    "\n",
    "    datamat = get_mouse_data(df)\n",
    "\n",
    "    # Save dataframe to CSV file\n",
    "    filename = mouse_nickname + '.csv'\n",
    "    datamat.to_csv(filename,index=False)\n",
    "    stable_mice_names.append(mouse_nickname)\n",
    "                        \n",
    "print(stable_mice_names)"
   ]
  },
  {
   "cell_type": "code",
   "execution_count": null,
   "metadata": {},
   "outputs": [],
   "source": []
  }
 ],
 "metadata": {
  "kernelspec": {
   "display_name": "Python 3",
   "language": "python",
   "name": "python3"
  },
  "language_info": {
   "codemirror_mode": {
    "name": "ipython",
    "version": 3
   },
   "file_extension": ".py",
   "mimetype": "text/x-python",
   "name": "python",
   "nbconvert_exporter": "python",
   "pygments_lexer": "ipython3",
   "version": "3.7.4"
  }
 },
 "nbformat": 4,
 "nbformat_minor": 2
}
