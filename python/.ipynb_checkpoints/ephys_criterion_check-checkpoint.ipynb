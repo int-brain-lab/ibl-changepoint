{
 "cells": [
  {
   "cell_type": "markdown",
   "metadata": {},
   "source": [
    "This script performs analyses to check how many mice pass the currenty set criterion for ephys."
   ]
  },
  {
   "cell_type": "code",
   "execution_count": 2,
   "metadata": {},
   "outputs": [
    {
     "name": "stdout",
     "output_type": "stream",
     "text": [
      "Connecting lacerbi@datajoint.internationalbrainlab.org:3306\n"
     ]
    }
   ],
   "source": [
    "import datajoint as dj\n",
    "dj.config['database.host'] = 'datajoint.internationalbrainlab.org'\n",
    "\n",
    "from ibl_pipeline import subject, acquisition, action, behavior, reference, data\n",
    "from ibl_pipeline.analyses.behavior import PsychResults, SessionTrainingStatus\n",
    "from ibl_pipeline.utils import psychofit as psy\n",
    "from ibl_pipeline.analyses import behavior as behavior_analysis\n",
    "\n",
    "import numpy as np\n",
    "import matplotlib.pyplot as plt\n",
    "import pandas as pd"
   ]
  },
  {
   "cell_type": "code",
   "execution_count": 56,
   "metadata": {},
   "outputs": [],
   "source": [
    "sess_ephys = (acquisition.Session * subject.Subject * behavior_analysis.SessionTrainingStatus ) & 'task_protocol LIKE \"%ephys%\"'\n",
    "#               & 'task_protocol LIKE \"%biased%\"' & 'session_start_time < \"2019-09-30\"')\n",
    "\n",
    "first_pass_map_repeated = [('ZM_2241','2020-01-30'),('CSHL049','2020-01-08'),('CSHL047','2020-01-20'),('CSHL051','2020-02-05'),\n",
    "                  ('KS023','2019-12-10'),('KS020','2020-02-07'),('CSHL054','2020-02-12'),('SWC_023','2020-02-13'),\n",
    "                  ('NYU-12','2020-01-22'),('ibl_witten_13','2019-12-03'),('ibl_witten_14','2019-12-11'),('SWC_014','2019-12-10'),\n",
    "                  ('CSHL052','2020-02-21'),('CSHL045','2020-02-25'),('DY_009','2020-02-27'),('NYU-11','2020-02-20'),\n",
    "                  ('DY_008','2020-03-03'),('CSHL059','2020-03-06'),('DY_013','2020-03-07')]\n",
    "\n",
    "df = pd.DataFrame(sess_ephys)"
   ]
  },
  {
   "cell_type": "code",
   "execution_count": 111,
   "metadata": {},
   "outputs": [
    {
     "name": "stdout",
     "output_type": "stream",
     "text": [
      "Total # of ephys sessions: 200\n",
      "Total # of sessions good_enough_for_brainwide_map: 114 (57.0 %)\n",
      "Total # of ephys sessions in first pass map: 19\n",
      "Total # of sessions good_enough_for_brainwide_map in first pass map: 10 (52.6 %)\n"
     ]
    }
   ],
   "source": [
    "session_dates = df['session_start_time'].apply(lambda x : x.strftime(\"%Y-%m-%d\"))\n",
    "\n",
    "# First, count all mice\n",
    "\n",
    "total = len(df.index)\n",
    "good_enough = np.sum(df['good_enough_for_brainwide_map'])\n",
    "prc = good_enough / total * 100\n",
    "print('Total # of ephys sessions: '+ str(total))\n",
    "print('Total # of sessions good_enough_for_brainwide_map: ' + str(good_enough) + ' (' + \"{:.1f}\".format(prc) + ' %)')\n",
    "\n",
    "# Now, consider only mice in the first pass map, repeated site\n",
    "\n",
    "count = 0\n",
    "for (mouse_name,session_date) in first_pass_map:\n",
    "    tmp = df[(df['subject_nickname']  == mouse_name) & (session_dates == session_date)]\n",
    "    count = count + np.sum(tmp['good_enough_for_brainwide_map'])\n",
    "    \n",
    "total = len(first_pass_map_repeated)\n",
    "good_enough = count\n",
    "prc = good_enough / total * 100\n",
    "print('Total # of ephys sessions in first pass map, repeated site: '+ str(total))\n",
    "print('Total # of sessions good_enough_for_brainwide_map in first pass map, repeated site: ' + str(good_enough) + ' (' + \"{:.1f}\".format(prc) + ' %)')\n"
   ]
  },
  {
   "cell_type": "code",
   "execution_count": 88,
   "metadata": {},
   "outputs": [],
   "source": [
    "\n",
    "    \n"
   ]
  },
  {
   "cell_type": "code",
   "execution_count": 61,
   "metadata": {},
   "outputs": [
    {
     "data": {
      "text/html": [
       "<div>\n",
       "<style scoped>\n",
       "    .dataframe tbody tr th:only-of-type {\n",
       "        vertical-align: middle;\n",
       "    }\n",
       "\n",
       "    .dataframe tbody tr th {\n",
       "        vertical-align: top;\n",
       "    }\n",
       "\n",
       "    .dataframe thead th {\n",
       "        text-align: right;\n",
       "    }\n",
       "</style>\n",
       "<table border=\"1\" class=\"dataframe\">\n",
       "  <thead>\n",
       "    <tr style=\"text-align: right;\">\n",
       "      <th></th>\n",
       "      <th>subject_uuid</th>\n",
       "      <th>session_start_time</th>\n",
       "      <th>session_uuid</th>\n",
       "      <th>session_number</th>\n",
       "      <th>session_end_time</th>\n",
       "      <th>session_lab</th>\n",
       "      <th>session_location</th>\n",
       "      <th>task_protocol</th>\n",
       "      <th>session_type</th>\n",
       "      <th>session_narrative</th>\n",
       "      <th>...</th>\n",
       "      <th>sex</th>\n",
       "      <th>subject_birth_date</th>\n",
       "      <th>ear_mark</th>\n",
       "      <th>subject_line</th>\n",
       "      <th>subject_source</th>\n",
       "      <th>protocol_number</th>\n",
       "      <th>subject_description</th>\n",
       "      <th>subject_ts</th>\n",
       "      <th>training_status</th>\n",
       "      <th>good_enough_for_brainwide_map</th>\n",
       "    </tr>\n",
       "  </thead>\n",
       "  <tbody>\n",
       "    <tr>\n",
       "      <td>45</td>\n",
       "      <td>0a47477d-e76f-43d8-a5b3-9b985707ad3f</td>\n",
       "      <td>2020-03-06 13:13:21</td>\n",
       "      <td>2f63c555-eb74-4d8d-ada5-5c3ecf3b46be</td>\n",
       "      <td>1</td>\n",
       "      <td>2020-03-06 14:15:47</td>\n",
       "      <td>danlab</td>\n",
       "      <td>_iblrig_danlab_ephys_0</td>\n",
       "      <td>_iblrig_tasks_ephysChoiceWorld6.2.5</td>\n",
       "      <td>Experiment</td>\n",
       "      <td>None</td>\n",
       "      <td>...</td>\n",
       "      <td>M</td>\n",
       "      <td>2019-11-14</td>\n",
       "      <td>none</td>\n",
       "      <td>C57BL/6J</td>\n",
       "      <td>Jax</td>\n",
       "      <td>3</td>\n",
       "      <td>None</td>\n",
       "      <td>2020-01-21 04:25:13</td>\n",
       "      <td>ready4delay</td>\n",
       "      <td>1</td>\n",
       "    </tr>\n",
       "    <tr>\n",
       "      <td>46</td>\n",
       "      <td>0a47477d-e76f-43d8-a5b3-9b985707ad3f</td>\n",
       "      <td>2020-03-12 11:27:10</td>\n",
       "      <td>e535fb62-e245-4a48-b119-88ce62a6fe67</td>\n",
       "      <td>1</td>\n",
       "      <td>2020-03-12 12:07:03</td>\n",
       "      <td>danlab</td>\n",
       "      <td>_iblrig_danlab_ephys_0</td>\n",
       "      <td>_iblrig_tasks_ephysChoiceWorld6.4.0</td>\n",
       "      <td>Experiment</td>\n",
       "      <td>None</td>\n",
       "      <td>...</td>\n",
       "      <td>M</td>\n",
       "      <td>2019-11-14</td>\n",
       "      <td>none</td>\n",
       "      <td>C57BL/6J</td>\n",
       "      <td>Jax</td>\n",
       "      <td>3</td>\n",
       "      <td>None</td>\n",
       "      <td>2020-01-21 04:25:13</td>\n",
       "      <td>ready4delay</td>\n",
       "      <td>1</td>\n",
       "    </tr>\n",
       "  </tbody>\n",
       "</table>\n",
       "<p>2 rows × 22 columns</p>\n",
       "</div>"
      ],
      "text/plain": [
       "                            subject_uuid  session_start_time  \\\n",
       "45  0a47477d-e76f-43d8-a5b3-9b985707ad3f 2020-03-06 13:13:21   \n",
       "46  0a47477d-e76f-43d8-a5b3-9b985707ad3f 2020-03-12 11:27:10   \n",
       "\n",
       "                            session_uuid  session_number    session_end_time  \\\n",
       "45  2f63c555-eb74-4d8d-ada5-5c3ecf3b46be               1 2020-03-06 14:15:47   \n",
       "46  e535fb62-e245-4a48-b119-88ce62a6fe67               1 2020-03-12 12:07:03   \n",
       "\n",
       "   session_lab        session_location                        task_protocol  \\\n",
       "45      danlab  _iblrig_danlab_ephys_0  _iblrig_tasks_ephysChoiceWorld6.2.5   \n",
       "46      danlab  _iblrig_danlab_ephys_0  _iblrig_tasks_ephysChoiceWorld6.4.0   \n",
       "\n",
       "   session_type session_narrative  ... sex subject_birth_date ear_mark  \\\n",
       "45   Experiment              None  ...   M         2019-11-14     none   \n",
       "46   Experiment              None  ...   M         2019-11-14     none   \n",
       "\n",
       "   subject_line subject_source protocol_number subject_description  \\\n",
       "45     C57BL/6J            Jax               3                None   \n",
       "46     C57BL/6J            Jax               3                None   \n",
       "\n",
       "            subject_ts training_status good_enough_for_brainwide_map  \n",
       "45 2020-01-21 04:25:13     ready4delay                             1  \n",
       "46 2020-01-21 04:25:13     ready4delay                             1  \n",
       "\n",
       "[2 rows x 22 columns]"
      ]
     },
     "execution_count": 61,
     "metadata": {},
     "output_type": "execute_result"
    }
   ],
   "source": [
    "df[df['subject_nickname']  == mouse_name & df['session_start_time'] == session_date]"
   ]
  },
  {
   "cell_type": "code",
   "execution_count": 63,
   "metadata": {},
   "outputs": [
    {
     "data": {
      "text/plain": [
       "0      False\n",
       "1      False\n",
       "2      False\n",
       "3      False\n",
       "4      False\n",
       "       ...  \n",
       "195    False\n",
       "196    False\n",
       "197    False\n",
       "198    False\n",
       "199    False\n",
       "Name: session_start_time, Length: 200, dtype: bool"
      ]
     },
     "execution_count": 63,
     "metadata": {},
     "output_type": "execute_result"
    }
   ],
   "source": [
    "df['session_start_time'] == '2020-03-06'"
   ]
  },
  {
   "cell_type": "code",
   "execution_count": 67,
   "metadata": {},
   "outputs": [
    {
     "data": {
      "text/plain": [
       "Timestamp('2020-02-17 15:55:29')"
      ]
     },
     "execution_count": 67,
     "metadata": {},
     "output_type": "execute_result"
    }
   ],
   "source": [
    "a = df['session_start_time'][0]\n",
    "a"
   ]
  },
  {
   "cell_type": "code",
   "execution_count": 75,
   "metadata": {},
   "outputs": [
    {
     "data": {
      "text/plain": [
       "'2020-02-17'"
      ]
     },
     "execution_count": 75,
     "metadata": {},
     "output_type": "execute_result"
    }
   ],
   "source": [
    "a.strftime(\"%Y-%m-%d\")"
   ]
  },
  {
   "cell_type": "code",
   "execution_count": 78,
   "metadata": {},
   "outputs": [],
   "source": [
    "from datetime import datetime"
   ]
  },
  {
   "cell_type": "code",
   "execution_count": 81,
   "metadata": {},
   "outputs": [
    {
     "data": {
      "text/plain": [
       "0      2020-02-17\n",
       "1      2020-02-18\n",
       "2      2020-02-19\n",
       "3      2020-02-20\n",
       "4      2020-02-21\n",
       "          ...    \n",
       "195    2020-03-10\n",
       "196    2020-02-13\n",
       "197    2020-02-14\n",
       "198    2019-05-07\n",
       "199    2019-12-11\n",
       "Name: session_start_time, Length: 200, dtype: object"
      ]
     },
     "execution_count": 81,
     "metadata": {},
     "output_type": "execute_result"
    }
   ],
   "source": [
    "session_dates"
   ]
  },
  {
   "cell_type": "code",
   "execution_count": null,
   "metadata": {},
   "outputs": [],
   "source": []
  }
 ],
 "metadata": {
  "kernelspec": {
   "display_name": "Python 3",
   "language": "python",
   "name": "python3"
  },
  "language_info": {
   "codemirror_mode": {
    "name": "ipython",
    "version": 3
   },
   "file_extension": ".py",
   "mimetype": "text/x-python",
   "name": "python",
   "nbconvert_exporter": "python",
   "pygments_lexer": "ipython3",
   "version": "3.7.4"
  }
 },
 "nbformat": 4,
 "nbformat_minor": 2
}
