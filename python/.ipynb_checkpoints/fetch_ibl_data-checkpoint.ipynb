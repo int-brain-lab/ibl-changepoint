{
 "cells": [
  {
   "cell_type": "markdown",
   "metadata": {},
   "source": [
    "This script loads behavioral mice data (from `biasedChoiceWorld` sessions and, separately, the last three sessions of training) only from mice that pass a given (stricter) training criterion defined in a *schema* uploaded by Anne Urai.\n",
    "The data are slightly reformatted and saved as `.csv` files."
   ]
  },
  {
   "cell_type": "code",
   "execution_count": 26,
   "metadata": {},
   "outputs": [],
   "source": [
    "import datajoint as dj\n",
    "dj.config['database.host'] = 'datajoint.internationalbrainlab.org'\n",
    "\n",
    "from ibl_pipeline import subject, acquisition, action, behavior, reference, data\n",
    "from ibl_pipeline.analyses.behavior import PsychResults\n",
    "from ibl_pipeline.utils import psychofit as psy\n",
    "from ibl_pipeline.analyses import behavior as behavioral_analyses\n",
    "\n",
    "import numpy as np\n",
    "import matplotlib.pyplot as plt\n",
    "import pandas as pd"
   ]
  },
  {
   "cell_type": "code",
   "execution_count": 27,
   "metadata": {},
   "outputs": [],
   "source": [
    "import os\n",
    "myPath = r\"C:\\Users\\Luigi\\Documents\\GitHub\\ibl-changepoint\\data\" # Write here your data path\n",
    "os.chdir(myPath)"
   ]
  },
  {
   "cell_type": "code",
   "execution_count": 30,
   "metadata": {},
   "outputs": [
    {
     "data": {
      "text/plain": [
       "array(['CSHL_007', 'CSHL_010', 'CSK-les-008', 'DY_006', 'IBL-T4',\n",
       "       'IBL_13', 'IBL_17', 'IBL_36', 'IBL_45', 'ibl_witten_06',\n",
       "       'ibl_witten_07', 'KS003', 'KS004', 'NYU-01', 'ZM_1089', 'ZM_1092',\n",
       "       'ZM_1093', 'ZM_1745', 'ZM_1746'], dtype=object)"
      ]
     },
     "execution_count": 30,
     "metadata": {},
     "output_type": "execute_result"
    }
   ],
   "source": [
    "# Get list of mice that satisfy given training criteria (from Anne Urai's analysis)\n",
    "\n",
    "analyses = dj.create_virtual_module('analyses', 'group_shared_anneurai_analyses')\n",
    "\n",
    "sess = ((acquisition.Session) *\n",
    "        acquisition.Session.proj(session_date = 'DATE(session_start_time)'))*analyses.SessionTrainingStatus()*\\\n",
    "subject.Subject.proj('subject_nickname')  & 'task_protocol LIKE \"%biased%\"'\n",
    "\n",
    "sess_dat = pd.DataFrame(sess.fetch(order_by='subject_nickname, session_start_time'))\n",
    "mice_names = sess_dat['subject_nickname'].unique()\n",
    "print(mice_names)"
   ]
  },
  {
   "cell_type": "code",
   "execution_count": 31,
   "metadata": {},
   "outputs": [],
   "source": [
    "sess_train  = (acquisition.Session & 'task_protocol LIKE \"%training%\"')\n",
    "sess_stable = (acquisition.Session & 'task_protocol LIKE \"%biased%\"')\n",
    "stable_mice_names = list()\n",
    "\n",
    "# Perform at least this number of sessions\n",
    "MinSessionNumber = 1 \n",
    "\n",
    "def get_mouse_data(df):\n",
    "    position_deg = 35.    # Stimuli appear at +/- 35 degrees\n",
    "\n",
    "    # Create new dataframe\n",
    "    datamat = pd.DataFrame()\n",
    "    datamat['trial_num'] = df['trial_id']\n",
    "    datamat['session_num'] = np.cumsum(df['trial_id'] == 1)\n",
    "    datamat['stim_probability_left'] = df['trial_stim_prob_left']\n",
    "    signed_contrast = df['trial_stim_contrast_right'] - df['trial_stim_contrast_left']\n",
    "    datamat['contrast'] = np.abs(signed_contrast)\n",
    "    datamat['position'] = np.sign(signed_contrast)*position_deg\n",
    "    datamat['response_choice'] = df['trial_response_choice']\n",
    "    datamat.loc[df['trial_response_choice'] == 'CCW','response_choice'] = 1\n",
    "    datamat.loc[df['trial_response_choice'] == 'CW','response_choice'] = -1\n",
    "    datamat.loc[df['trial_response_choice'] == 'No Go','response_choice'] = 0\n",
    "    datamat['trial_correct'] = np.double(df['trial_feedback_type']==1)\n",
    "    datamat['reaction_time'] = df['trial_response_time'] - df['trial_stim_on_time'] # double-check\n",
    "\n",
    "    # Since some trials have zero contrast, need to compute the alleged position separately\n",
    "    datamat.loc[(datamat['trial_correct'] == 1) & (signed_contrast == 0),'position'] = \\\n",
    "        datamat.loc[(datamat['trial_correct'] == 1) & (signed_contrast == 0),'response_choice']*position_deg\n",
    "    datamat.loc[(datamat['trial_correct'] == 0) & (signed_contrast == 0),'position'] = \\\n",
    "        datamat.loc[(datamat['trial_correct'] == 0) & (signed_contrast == 0),'response_choice']*(-position_deg)\n",
    "    \n",
    "    return datamat"
   ]
  },
  {
   "cell_type": "code",
   "execution_count": 33,
   "metadata": {},
   "outputs": [
    {
     "name": "stdout",
     "output_type": "stream",
     "text": [
      "['CSHL_007', 'CSHL_010', 'CSK-les-008', 'DY_006', 'IBL-T4', 'IBL_13', 'IBL_17', 'IBL_36', 'IBL_45', 'ibl_witten_06', 'ibl_witten_07', 'KS003', 'KS004', 'NYU-01', 'ZM_1089', 'ZM_1092', 'ZM_1093', 'ZM_1745', 'ZM_1746', 'CSHL_007', 'CSHL_010', 'CSK-les-008', 'DY_006', 'IBL-T4', 'IBL_13', 'IBL_17', 'IBL_36', 'IBL_45', 'ibl_witten_06', 'ibl_witten_07', 'KS003', 'KS004', 'NYU-01', 'ZM_1089', 'ZM_1092', 'ZM_1093', 'ZM_1745', 'ZM_1746']\n"
     ]
    }
   ],
   "source": [
    "# Loop over all mice\n",
    "for mouse_nickname in mice_names:\n",
    "    \n",
    "    mouse_subject = {'subject_nickname': mouse_nickname}\n",
    "    \n",
    "    # Get mouse data for biased sessions\n",
    "    behavior_stable = (behavior.TrialSet.Trial & (subject.Subject & mouse_subject)) \\\n",
    "        * sess_stable.proj('session_uuid','task_protocol') * subject.Subject.proj('subject_nickname') \\\n",
    "        * subject.SubjectLab.proj('lab_name')\n",
    "    df = pd.DataFrame(behavior_stable.fetch(order_by='subject_nickname, session_start_time, trial_id'))\n",
    "\n",
    "    if len(df) > 0:           # The mouse has performed in at least one stable session with biased blocks            \n",
    "        datamat = get_mouse_data(df)\n",
    "\n",
    "        # Take mice that have performed a minimum number of sessions\n",
    "        if np.max(datamat['session_num']) >= MinSessionNumber:\n",
    "\n",
    "            # Should add 'N' to mice names that start with numbers?\n",
    "\n",
    "            # Save dataframe to CSV file\n",
    "            filename = mouse_nickname + '.csv'\n",
    "            datamat.to_csv(filename,index=False)\n",
    "            stable_mice_names.append(mouse_nickname)\n",
    "\n",
    "            # Get mouse last sessions of training data\n",
    "            behavior_train = (behavior.TrialSet.Trial & (subject.Subject & mouse_subject)) \\\n",
    "                * sess_train.proj('session_uuid','task_protocol') * subject.Subject.proj('subject_nickname') \\\n",
    "                * subject.SubjectLab.proj('lab_name')\n",
    "            df_train = pd.DataFrame(behavior_train.fetch(order_by='subject_nickname, session_start_time, trial_id'))\n",
    "\n",
    "            datamat_train = get_mouse_data(df_train)\n",
    "            Nlast = np.max(datamat_train['session_num']) - 3\n",
    "            datamat_final = datamat_train[datamat_train['session_num'] > Nlast]\n",
    "\n",
    "            # Save final training dataframe to CSV file\n",
    "            filename = mouse_nickname + '_endtrain.csv'\n",
    "            datamat_final.to_csv(filename,index=False)\n",
    "            \n",
    "\n",
    "print(stable_mice_names)"
   ]
  },
  {
   "cell_type": "code",
   "execution_count": 2,
   "metadata": {},
   "outputs": [
    {
     "ename": "NameError",
     "evalue": "name 'mice_names' is not defined",
     "output_type": "error",
     "traceback": [
      "\u001b[1;31m---------------------------------------------------------------------------\u001b[0m",
      "\u001b[1;31mNameError\u001b[0m                                 Traceback (most recent call last)",
      "\u001b[1;32m<ipython-input-2-c37c5444768a>\u001b[0m in \u001b[0;36m<module>\u001b[1;34m\u001b[0m\n\u001b[1;32m----> 1\u001b[1;33m \u001b[0mmice_names\u001b[0m\u001b[1;33m\u001b[0m\u001b[1;33m\u001b[0m\u001b[0m\n\u001b[0m",
      "\u001b[1;31mNameError\u001b[0m: name 'mice_names' is not defined"
     ]
    }
   ],
   "source": [
    "mice_names"
   ]
  },
  {
   "cell_type": "code",
   "execution_count": null,
   "metadata": {},
   "outputs": [],
   "source": []
  }
 ],
 "metadata": {
  "kernelspec": {
   "display_name": "Python 3",
   "language": "python",
   "name": "python3"
  },
  "language_info": {
   "codemirror_mode": {
    "name": "ipython",
    "version": 3
   },
   "file_extension": ".py",
   "mimetype": "text/x-python",
   "name": "python",
   "nbconvert_exporter": "python",
   "pygments_lexer": "ipython3",
   "version": "3.7.4"
  }
 },
 "nbformat": 4,
 "nbformat_minor": 2
}
