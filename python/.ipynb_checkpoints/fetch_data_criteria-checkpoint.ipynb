{
 "cells": [
  {
   "cell_type": "markdown",
   "metadata": {},
   "source": [
    "This script loads behavioral mice data (from `biasedChoiceWorld` protocol and, separately, the last three sessions of training) only from mice that pass a given (stricter) training criterion. For the `biasedChoiceWorld` protocol, only sessions achieving the `trained_1b` and `ready4ephysrig` training status are collected.\n",
    "The data are slightly reformatted and saved as `.csv` files."
   ]
  },
  {
   "cell_type": "code",
   "execution_count": 1,
   "metadata": {},
   "outputs": [
    {
     "name": "stdout",
     "output_type": "stream",
     "text": [
      "Connecting lacerbi@datajoint.internationalbrainlab.org:3306\n"
     ]
    }
   ],
   "source": [
    "import datajoint as dj\n",
    "dj.config['database.host'] = 'datajoint.internationalbrainlab.org'\n",
    "\n",
    "from ibl_pipeline import subject, acquisition, action, behavior, reference, data\n",
    "from ibl_pipeline.analyses.behavior import PsychResults, SessionTrainingStatus\n",
    "from ibl_pipeline.utils import psychofit as psy\n",
    "from ibl_pipeline.analyses import behavior as behavior_analysis\n",
    "\n",
    "import numpy as np\n",
    "import matplotlib.pyplot as plt\n",
    "import pandas as pd"
   ]
  },
  {
   "cell_type": "code",
   "execution_count": 2,
   "metadata": {},
   "outputs": [],
   "source": [
    "import os\n",
    "myPath = r\"C:\\Users\\Luigi\\Documents\\GitHub\\ibl-changepoint\\data\" # Write here your data path\n",
    "os.chdir(myPath)"
   ]
  },
  {
   "cell_type": "code",
   "execution_count": 3,
   "metadata": {},
   "outputs": [
    {
     "name": "stdout",
     "output_type": "stream",
     "text": [
      "['CSHL_002', 'CSHL_003', 'CSHL_005', 'CSHL_008', 'CSHL_010', 'CSHL_014', 'CSHL_015', 'CSH_ZAD_001', 'CSH_ZAD_003', 'CSH_ZAD_004', 'CSH_ZAD_006', 'CSH_ZAD_007', 'CSH_ZAD_010', 'DY_001', 'DY_006', 'DY_007', 'IBL-T1', 'IBL-T2', 'IBL-T4', 'IBL_001', 'IBL_002', 'KS002', 'KS003', 'KS004', 'KS005', 'KS014', 'KS015', 'KS016', 'KS017', 'KS019', 'NYU-01', 'NYU-02', 'NYU-06', 'SWC_009', 'SWC_013', 'SWC_014', 'ZM_1084', 'ZM_1085', 'ZM_1086', 'ZM_1087', 'ZM_1091', 'ZM_1092', 'ZM_1097', 'ZM_1098', 'ZM_1367', 'ZM_1371', 'ZM_1372', 'ZM_1743', 'ZM_1745', 'ZM_1746', 'ZM_1747', 'ibl_witten_03', 'ibl_witten_04', 'ibl_witten_05', 'ibl_witten_06', 'ibl_witten_12', 'ibl_witten_14', 'ibl_witten_15', 'ibl_witten_16']\n"
     ]
    }
   ],
   "source": [
    "# Get list of mice that satisfy given training criteria (stringent trained_1b)\n",
    "# Check query from behavioral paper: \n",
    "# https://github.com/int-brain-lab/paper-behavior/blob/master/paper_behavior_functions.py\n",
    "\n",
    "subj_query = (subject.Subject * subject.SubjectLab * reference.Lab * subject.SubjectProject\n",
    "                  & 'subject_project = \"ibl_neuropixel_brainwide_01\"').aggr(\n",
    "                          (acquisition.Session * behavior_analysis.SessionTrainingStatus())\n",
    "#                          & 'training_status=\"trained_1a\" OR training_status=\"trained_1b\"',\n",
    "#                          & 'training_status=\"trained_1b\" OR training_status=\"ready4ephysrig\"',\n",
    "                          & 'training_status=\"trained_1b\"',\n",
    "                          'subject_nickname', 'sex', 'subject_birth_date', 'institution',\n",
    "                          date_trained='min(date(session_start_time))')\n",
    "\n",
    "subjects = (subj_query & 'date_trained < \"2019-09-30\"')\n",
    "\n",
    "mice_names = sorted(subjects.fetch('subject_nickname'))\n",
    "\n",
    "print(mice_names)"
   ]
  },
  {
   "cell_type": "code",
   "execution_count": 4,
   "metadata": {},
   "outputs": [],
   "source": [
    "sess_train  = ((acquisition.Session * behavior_analysis.SessionTrainingStatus) & \n",
    "               'task_protocol LIKE \"%training%\"' & 'session_start_time < \"2019-09-30\"')\n",
    "sess_stable = ((acquisition.Session * behavior_analysis.SessionTrainingStatus) & \n",
    "               'task_protocol LIKE \"%biased%\"' & 'session_start_time < \"2019-09-30\"' & \n",
    "               ('training_status=\"trained_1b\" OR training_status=\"ready4ephysrig\"'))\n",
    "              \n",
    "stable_mice_names = list()\n",
    "\n",
    "# Perform at least this number of sessions\n",
    "MinSessionNumber = 4\n",
    "\n",
    "def get_mouse_data(df):\n",
    "    position_deg = 35.    # Stimuli appear at +/- 35 degrees\n",
    "\n",
    "    # Create new dataframe\n",
    "    datamat = pd.DataFrame()\n",
    "    datamat['trial_num'] = df['trial_id']\n",
    "    datamat['session_num'] = np.cumsum(df['trial_id'] == 1)\n",
    "    datamat['stim_probability_left'] = df['trial_stim_prob_left']\n",
    "    signed_contrast = df['trial_stim_contrast_right'] - df['trial_stim_contrast_left']\n",
    "    datamat['contrast'] = np.abs(signed_contrast)\n",
    "    datamat['position'] = np.sign(signed_contrast)*position_deg\n",
    "    datamat['response_choice'] = df['trial_response_choice']\n",
    "    datamat.loc[df['trial_response_choice'] == 'CCW','response_choice'] = 1\n",
    "    datamat.loc[df['trial_response_choice'] == 'CW','response_choice'] = -1\n",
    "    datamat.loc[df['trial_response_choice'] == 'No Go','response_choice'] = 0\n",
    "    datamat['trial_correct'] = np.double(df['trial_feedback_type']==1)\n",
    "    datamat['reaction_time'] = df['trial_response_time'] - df['trial_stim_on_time'] # double-check\n",
    "\n",
    "    # Since some trials have zero contrast, need to compute the alleged position separately\n",
    "    datamat.loc[(datamat['trial_correct'] == 1) & (signed_contrast == 0),'position'] = \\\n",
    "        datamat.loc[(datamat['trial_correct'] == 1) & (signed_contrast == 0),'response_choice']*position_deg\n",
    "    datamat.loc[(datamat['trial_correct'] == 0) & (signed_contrast == 0),'position'] = \\\n",
    "        datamat.loc[(datamat['trial_correct'] == 0) & (signed_contrast == 0),'response_choice']*(-position_deg)\n",
    "    \n",
    "    return datamat"
   ]
  },
  {
   "cell_type": "code",
   "execution_count": 6,
   "metadata": {},
   "outputs": [
    {
     "name": "stdout",
     "output_type": "stream",
     "text": [
      "['CSHL_002', 'CSHL_003', 'CSHL_005', 'CSHL_008', 'CSHL_010', 'CSHL_014', 'CSHL_015', 'CSH_ZAD_001', 'CSH_ZAD_003', 'CSH_ZAD_004', 'CSH_ZAD_006', 'CSH_ZAD_007', 'CSH_ZAD_010', 'DY_001', 'DY_007', 'IBL-T1', 'IBL-T2', 'IBL-T4', 'IBL_001', 'IBL_002', 'KS002', 'KS003', 'KS004', 'KS005', 'KS014', 'KS015', 'KS016', 'KS017', 'NYU-01', 'NYU-02', 'NYU-06', 'SWC_013', 'ZM_1084', 'ZM_1085', 'ZM_1086', 'ZM_1087', 'ZM_1091', 'ZM_1092', 'ZM_1097', 'ZM_1098', 'ZM_1367', 'ZM_1371', 'ZM_1372', 'ZM_1743', 'ZM_1745', 'ZM_1746', 'ibl_witten_04', 'ibl_witten_05', 'ibl_witten_06', 'ibl_witten_12', 'ibl_witten_14', 'ibl_witten_15', 'ibl_witten_16']\n"
     ]
    }
   ],
   "source": [
    "# Loop over all mice\n",
    "for mouse_nickname in mice_names:\n",
    "    \n",
    "    mouse_subject = {'subject_nickname': mouse_nickname}\n",
    "    \n",
    "    # Get mouse data for biased sessions\n",
    "    behavior_stable = (behavior.TrialSet.Trial & (subject.Subject & mouse_subject)) \\\n",
    "        * sess_stable.proj('session_uuid','task_protocol','session_start_time','training_status') * subject.Subject.proj('subject_nickname') \\\n",
    "        * subject.SubjectLab.proj('lab_name')\n",
    "    df = pd.DataFrame(behavior_stable.fetch(order_by='subject_nickname, session_start_time, trial_id', as_dict=True))\n",
    "\n",
    "    if len(df) > 0:           # The mouse has performed in at least one stable session with biased blocks            \n",
    "        datamat = get_mouse_data(df)\n",
    "\n",
    "        # Take mice that have performed a minimum number of sessions\n",
    "        if np.max(datamat['session_num']) >= MinSessionNumber:\n",
    "\n",
    "            # Should add 'N' to mice names that start with numbers?\n",
    "\n",
    "            # Save dataframe to CSV file\n",
    "            filename = mouse_nickname + '.csv'\n",
    "            datamat.to_csv(filename,index=False)\n",
    "            stable_mice_names.append(mouse_nickname)\n",
    "            \n",
    "            # Get mouse last sessions of training data\n",
    "            behavior_train = (behavior.TrialSet.Trial & (subject.Subject & mouse_subject)) \\\n",
    "                * sess_train.proj('session_uuid','task_protocol','session_start_time') * subject.Subject.proj('subject_nickname') \\\n",
    "                * subject.SubjectLab.proj('lab_name')\n",
    "            df_train = pd.DataFrame(behavior_train.fetch(order_by='subject_nickname, session_start_time, trial_id', as_dict=True))\n",
    "\n",
    "            datamat_train = get_mouse_data(df_train)\n",
    "            Nlast = np.max(datamat_train['session_num']) - 3\n",
    "            datamat_final = datamat_train[datamat_train['session_num'] > Nlast]\n",
    "\n",
    "            # Save final training dataframe to CSV file\n",
    "            filename = mouse_nickname + '_endtrain.csv'\n",
    "            datamat_final.to_csv(filename,index=False)\n",
    "            \n",
    "\n",
    "print(stable_mice_names)"
   ]
  },
  {
   "cell_type": "code",
   "execution_count": 7,
   "metadata": {},
   "outputs": [
    {
     "data": {
      "text/plain": [
       "53"
      ]
     },
     "execution_count": 7,
     "metadata": {},
     "output_type": "execute_result"
    }
   ],
   "source": [
    "len(stable_mice_names)"
   ]
  }
 ],
 "metadata": {
  "kernelspec": {
   "display_name": "Python 3",
   "language": "python",
   "name": "python3"
  },
  "language_info": {
   "codemirror_mode": {
    "name": "ipython",
    "version": 3
   },
   "file_extension": ".py",
   "mimetype": "text/x-python",
   "name": "python",
   "nbconvert_exporter": "python",
   "pygments_lexer": "ipython3",
   "version": "3.7.4"
  }
 },
 "nbformat": 4,
 "nbformat_minor": 2
}
