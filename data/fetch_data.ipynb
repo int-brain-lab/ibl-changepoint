{
 "cells": [
  {
   "cell_type": "code",
   "execution_count": 1,
   "metadata": {},
   "outputs": [
    {
     "name": "stdout",
     "output_type": "stream",
     "text": [
      "Please enter DataJoint username: lacerbi\n",
      "Please enter DataJoint password: ········\n",
      "Connecting lacerbi@datajoint.internationalbrainlab.org:3306\n"
     ]
    }
   ],
   "source": [
    "import datajoint as dj\n",
    "dj.config['database.host'] = 'datajoint.internationalbrainlab.org'\n",
    "\n",
    "from ibl_pipeline import subject, acquisition, action, behavior, reference\n",
    "from ibl_pipeline.analyses.behavior import PsychResults\n",
    "\n",
    "import numpy as np\n",
    "import matplotlib.pyplot as plt\n",
    "import pandas as pd"
   ]
  },
  {
   "cell_type": "code",
   "execution_count": 2,
   "metadata": {},
   "outputs": [],
   "source": [
    "import os\n",
    "myPath = r\"C:\\Users\\Luigi\\Documents\\GitHub\\ibl-changepoint\\data\" # Write here your data path\n",
    "os.chdir(myPath)"
   ]
  },
  {
   "cell_type": "code",
   "execution_count": 3,
   "metadata": {},
   "outputs": [],
   "source": [
    "# We analyze data only from mice that have performed at least this number of stable sessions\n",
    "MinSessionNumber = 5;\n",
    "\n",
    "# These are the example mice\n",
    "example_mice_nicknames = ['CSHL_005','CSHL_007','IBL-T1','IBL-T4','ibl_witten_04','ibl_witten_05']\n",
    "\n",
    "# Here we download all mice\n",
    "all_mice = subject.Subject().proj('subject_nickname')\n",
    "mice_list = list(all_mice)\n",
    "mice_names = list()\n",
    "for subj in mice_list:\n",
    "    mice_names.append(subj['subject_nickname'])\n",
    "\n",
    "# Uncomment to only download the example mice\n",
    "# mice_names = example_mice_nicknames\n",
    "    \n",
    "sess_train  = (acquisition.Session & 'task_protocol LIKE \"%training%\"')\n",
    "sess_stable = (acquisition.Session & 'task_protocol LIKE \"%biased%\"')\n",
    "stable_mice_names = list()\n",
    "\n",
    "def get_mouse_data(df):\n",
    "    position_deg = 35.    # Stimuli appear at +/- 35 degrees\n",
    "\n",
    "    # Create new dataframe\n",
    "    datamat = pd.DataFrame()\n",
    "    datamat['trial_num'] = df['trial_id']\n",
    "    datamat['session_num'] = np.cumsum(df['trial_id'] == 1)\n",
    "    datamat['stim_probability_left'] = df['trial_stim_prob_left']\n",
    "    signed_contrast = df['trial_stim_contrast_right'] - df['trial_stim_contrast_left']\n",
    "    datamat['contrast'] = np.abs(signed_contrast)\n",
    "    datamat['position'] = np.sign(signed_contrast)*position_deg\n",
    "    datamat['response_choice'] = df['trial_response_choice']\n",
    "    datamat.loc[df['trial_response_choice'] == 'CCW','response_choice'] = 1\n",
    "    datamat.loc[df['trial_response_choice'] == 'CW','response_choice'] = -1\n",
    "    datamat.loc[df['trial_response_choice'] == 'No Go','response_choice'] = 0\n",
    "    datamat['trial_correct'] = np.double(df['trial_feedback_type']==1)\n",
    "    datamat['reaction_time'] = df['trial_response_time'] - df['trial_stim_on_time'] # double-check\n",
    "\n",
    "    # Since some trials have zero contrast, need to compute the alleged position separately\n",
    "    datamat.loc[(datamat['trial_correct'] == 1) & (signed_contrast == 0),'position'] = \\\n",
    "        datamat.loc[(datamat['trial_correct'] == 1) & (signed_contrast == 0),'response_choice']*position_deg\n",
    "    datamat.loc[(datamat['trial_correct'] == 0) & (signed_contrast == 0),'position'] = \\\n",
    "        datamat.loc[(datamat['trial_correct'] == 0) & (signed_contrast == 0),'response_choice']*(-position_deg)\n",
    "    \n",
    "    return datamat"
   ]
  },
  {
   "cell_type": "code",
   "execution_count": 10,
   "metadata": {},
   "outputs": [
    {
     "name": "stdout",
     "output_type": "stream",
     "text": [
      "['ibl_witten_06', 'IBL-T4', 'NYU-02', 'ibl_witten_05', 'IBL-T3', 'DY_001', 'ibl_witten_04', 'IBL-T1', 'IBL-T2', 'ZM_1092', 'CSHL_007', 'ZM_1093', 'CSHL_010', 'CSHL_002', 'CSHL_008', 'ZM_1085', 'CSHL_003', 'ZM_1084', 'ZM_1098', 'CSHL_004', 'ZM_1091', 'CSHL_005', 'ZM_1097', 'ZM_1086']\n"
     ]
    }
   ],
   "source": [
    "# Loop over all mice\n",
    "for mouse_nickname in mice_names:\n",
    "    \n",
    "    mouse_subject = {'subject_nickname': mouse_nickname}\n",
    "    \n",
    "    # Have a look at the protocol for the first session (could probably be done in a smarter way)\n",
    "    behavior_all = (acquisition.Session & (subject.Subject & mouse_subject)) \\\n",
    "        * subject.Subject.proj('subject_nickname') \\\n",
    "        * subject.SubjectLab.proj('lab_name')\n",
    "    df0 = pd.DataFrame(behavior_all.fetch(order_by='session_start_time'))\n",
    "    first_protocol = df0['task_protocol']\n",
    "\n",
    "    # Only proceed with this mouse if it is a recent one (starts with a '*habituation*' protocol)\n",
    "    if (len(first_protocol) > 0) and (first_protocol[0] is not None) and (first_protocol[0].lower().find('habituation') >= 0):\n",
    "\n",
    "        # Get mouse data for biased sessions (thanks Anne Urai for the snippet)\n",
    "        behavior_stable = (behavior.TrialSet.Trial & (subject.Subject & mouse_subject)) \\\n",
    "            * sess_stable.proj('session_uuid','task_protocol') * subject.Subject.proj('subject_nickname') \\\n",
    "            * subject.SubjectLab.proj('lab_name')\n",
    "        df = pd.DataFrame(behavior_stable.fetch(order_by='subject_nickname, session_start_time, trial_id'))\n",
    "\n",
    "        if len(df) > 0:           # The mouse has performed in at least one stable session with biased blocks            \n",
    "            datamat = get_mouse_data(df)\n",
    "\n",
    "            # Take mice that have performed a minimum number of sessions\n",
    "            if np.max(datamat['session_num']) >= MinSessionNumber:\n",
    "\n",
    "                # Should add 'N' to mice names that start with numbers?\n",
    "                \n",
    "                # Save dataframe to CSV file\n",
    "                filename = mouse_nickname + '.csv'\n",
    "                datamat.to_csv(filename,index=False)\n",
    "                stable_mice_names.append(mouse_nickname)\n",
    "            \n",
    "                # Get mouse last sessions of training data\n",
    "                behavior_train = (behavior.TrialSet.Trial & (subject.Subject & mouse_subject)) \\\n",
    "                    * sess_train.proj('session_uuid','task_protocol') * subject.Subject.proj('subject_nickname') \\\n",
    "                    * subject.SubjectLab.proj('lab_name')\n",
    "                df_train = pd.DataFrame(behavior_train.fetch(order_by='subject_nickname, session_start_time, trial_id'))\n",
    "\n",
    "                datamat_train = get_mouse_data(df_train)\n",
    "                Nlast = np.max(datamat_train['session_num']) - 3\n",
    "                datamat_final = datamat_train[datamat_train['session_num'] > Nlast]\n",
    "\n",
    "                # Save final training dataframe to CSV file\n",
    "                filename = mouse_nickname + '_endtrain.csv'\n",
    "                datamat_final.to_csv(filename,index=False)\n",
    "            \n",
    "\n",
    "print(stable_mice_names)"
   ]
  }
 ],
 "metadata": {
  "kernelspec": {
   "display_name": "Python [conda env:ibllibenv]",
   "language": "python",
   "name": "conda-env-ibllibenv-py"
  },
  "language_info": {
   "codemirror_mode": {
    "name": "ipython",
    "version": 3
   },
   "file_extension": ".py",
   "mimetype": "text/x-python",
   "name": "python",
   "nbconvert_exporter": "python",
   "pygments_lexer": "ipython3",
   "version": "3.7.3"
  }
 },
 "nbformat": 4,
 "nbformat_minor": 2
}
