{
 "cells": [
  {
   "cell_type": "code",
   "execution_count": 6,
   "metadata": {},
   "outputs": [],
   "source": [
    "import datajoint as dj\n",
    "dj.config['database.host'] = 'datajoint.internationalbrainlab.org'\n",
    "\n",
    "from ibl_pipeline import subject, acquisition, action, behavior, reference\n",
    "from ibl_pipeline.analyses.behavior import PsychResults\n",
    "\n",
    "import numpy as np\n",
    "import matplotlib.pyplot as plt\n",
    "import pandas as pd"
   ]
  },
  {
   "cell_type": "code",
   "execution_count": 38,
   "metadata": {},
   "outputs": [],
   "source": [
    "example_mice_nicknames = ['CSHL_005','CSHL_007','IBL-T1','IBL-T4','ibl_witten_04','ibl_witten_05']\n",
    "\n",
    "sess_stable   = (acquisition.Session & 'task_protocol LIKE \"%biased%\"')\n",
    "\n",
    "for mouse_nickname in example_mice_nicknames:\n",
    "    \n",
    "    mouse_subject = {'subject_nickname': mouse_nickname}\n",
    "\n",
    "    # Get mouse data (thanks Anne Urai for the snippet)\n",
    "    behavior_stable = (behavior.TrialSet.Trial & (subject.Subject & mouse_subject)) \\\n",
    "        * sess_stable.proj('session_uuid','task_protocol') * subject.Subject.proj('subject_nickname') \\\n",
    "        * subject.SubjectLab.proj('lab_name')\n",
    "    df = pd.DataFrame(behavior_stable.fetch(order_by='subject_nickname, session_start_time, trial_id'))\n",
    "    \n",
    "    position_deg = 35.    # Stimuli appear at +/- 35 degrees\n",
    "    \n",
    "    # Create new dataframe\n",
    "    datamat = pd.DataFrame()\n",
    "    datamat['trial_num'] = df['trial_id']\n",
    "    datamat['session_num'] = np.cumsum(df['trial_id'] == 1)\n",
    "    datamat['stim_probability_left'] = df['trial_stim_prob_left']\n",
    "    signed_contrast = df['trial_stim_contrast_right'] - df['trial_stim_contrast_left']\n",
    "    datamat['contrast'] = np.abs(signed_contrast)\n",
    "    datamat['position'] = np.abs(signed_contrast) # placeholder\n",
    "    datamat['response_choice'] = df['trial_response_choice']\n",
    "    datamat.loc[df['trial_response_choice'] == 'CCW','response_choice'] = 1\n",
    "    datamat.loc[df['trial_response_choice'] == 'CW','response_choice'] = -1\n",
    "    datamat.loc[df['trial_response_choice'] == 'No Go','response_choice'] = 0\n",
    "    datamat['trial_correct'] = np.double(df['trial_feedback_type']==1)\n",
    "    datamat['reaction_time'] = df['trial_response_time'] - df['trial_stim_on_time'] # double-check\n",
    "    # Since some trials have zero contrast, need to compute the alleged position separately\n",
    "    datamat.loc[datamat['trial_correct'] == 1,'position'] = datamat.loc[datamat['trial_correct'] == 1,'response_choice']*position_deg\n",
    "    datamat.loc[datamat['trial_correct'] == 0,'position'] = datamat.loc[datamat['trial_correct'] == 0,'response_choice']*(-position_deg)\n",
    "\n",
    "    # Save dataframe to CSV file\n",
    "    filename = mouse_nickname + '.csv'\n",
    "    datamat.to_csv(filename,index=False)"
   ]
  },
  {
   "cell_type": "code",
   "execution_count": null,
   "metadata": {},
   "outputs": [],
   "source": []
  }
 ],
 "metadata": {
  "kernelspec": {
   "display_name": "Python [conda env:ibllibenv]",
   "language": "python",
   "name": "conda-env-ibllibenv-py"
  },
  "language_info": {
   "codemirror_mode": {
    "name": "ipython",
    "version": 3
   },
   "file_extension": ".py",
   "mimetype": "text/x-python",
   "name": "python",
   "nbconvert_exporter": "python",
   "pygments_lexer": "ipython3",
   "version": "3.7.3"
  }
 },
 "nbformat": 4,
 "nbformat_minor": 2
}
